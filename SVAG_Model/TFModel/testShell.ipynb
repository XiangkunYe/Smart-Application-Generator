{
 "cells": [
  {
   "cell_type": "code",
   "execution_count": 1,
   "metadata": {},
   "outputs": [],
   "source": [
    "import train\n",
    "import numpy as np\n",
    "import tensorflow as tf\n",
    "from tensorflow.python.platform import gfile\n",
    "from data import ImageDataPipeline, BottleneckDataPipeline\n",
    "from models import InceptionModelGenerator\n",
    "import os"
   ]
  },
  {
   "cell_type": "code",
   "execution_count": 2,
   "metadata": {
    "collapsed": true
   },
   "outputs": [],
   "source": [
    "file_dir = r'C:\\Users\\46176\\Documents\\files\\study\\EC601\\Smart_Vision_App_Generator\\test\\userId\\ProjectName\\datasetName'"
   ]
  },
  {
   "cell_type": "code",
   "execution_count": 3,
   "metadata": {
    "collapsed": true
   },
   "outputs": [],
   "source": [
    "IMAGE_SIZE = [256, 256]\n",
    "CHANNELS = 3\n",
    "SEGMENTATION_IMAGE_BATCH_SIZE = 100\n",
    "CLASSIFY_IMAGE_BATCH_SIZE = 10\n",
    "BOTTLENECK_BATCH_SIZE = 500\n",
    "VALIDATION_PERCENTAGE = 0.3\n",
    "CLASSIFY_LEARNING_RATE = 0.0005\n",
    "CLASSIFY_EPOCH = 20\n",
    "\n",
    "IMAGE_FOLDER = 'images'\n",
    "LABEL_FOLDER = 'labels'\n",
    "LABEL_INFO_FILE = 'labels_info.txt'\n",
    "BOTTLENECK_FOLDER = 'bottlenecks'\n",
    "TRAINED_MODEL_FOLDER = 'models'\n",
    "INCEPTION_V3_FILE = r'.\\pre_train_file\\inceptionV3_bottleneck.hdf5'"
   ]
  },
  {
   "cell_type": "code",
   "execution_count": 4,
   "metadata": {},
   "outputs": [
    {
     "data": {
      "text/plain": [
       "True"
      ]
     },
     "execution_count": 4,
     "metadata": {},
     "output_type": "execute_result"
    }
   ],
   "source": [
    "gfile.Exists(INCEPTION_V3_FILE)"
   ]
  },
  {
   "cell_type": "code",
   "execution_count": 5,
   "metadata": {},
   "outputs": [
    {
     "name": "stdout",
     "output_type": "stream",
     "text": [
      "WARNING:tensorflow:No training configuration found in save file: the model was *not* compiled. Compile it manually.\n"
     ]
    }
   ],
   "source": [
    "saved_models_path = os.path.join(file_dir, TRAINED_MODEL_FOLDER)\n",
    "images_dir = os.path.join(file_dir, IMAGE_FOLDER)\n",
    "label_file = os.path.join(file_dir, LABEL_INFO_FILE)\n",
    "bottleneck = os.path.join(file_dir, BOTTLENECK_FOLDER)\n",
    "\n",
    "image_dp = ImageDataPipeline(images_dir, label_file, image_size=IMAGE_SIZE)\n",
    "generator = InceptionModelGenerator(INCEPTION_V3_FILE,\n",
    "                                    image_dp.labels_classes,\n",
    "                                    (IMAGE_SIZE[0], IMAGE_SIZE[1], CHANNELS))\n",
    "bottleneck_dp = BottleneckDataPipeline(bottleneck, label_file)"
   ]
  },
  {
   "cell_type": "code",
   "execution_count": 9,
   "metadata": {},
   "outputs": [
    {
     "name": "stdout",
     "output_type": "stream",
     "text": [
      "Looking for images in 'n0'\n",
      "Looking for images in 'n1'\n",
      "Looking for images in 'n2'\n",
      "Looking for images in 'n3'\n",
      "Looking for images in 'n4'\n",
      "Looking for images in 'n5'\n",
      "Looking for images in 'n6'\n",
      "Looking for images in 'n7'\n",
      "Looking for images in 'n8'\n",
      "Looking for images in 'n9'\n",
      "already output 0 images' bottlenecks\n",
      "already output 100 images' bottlenecks\n",
      "already output 200 images' bottlenecks\n",
      "already output 300 images' bottlenecks\n",
      "already output 400 images' bottlenecks\n",
      "already output 500 images' bottlenecks\n",
      "already output 600 images' bottlenecks\n",
      "already output 700 images' bottlenecks\n",
      "already output 800 images' bottlenecks\n",
      "already output 900 images' bottlenecks\n",
      "already output 1000 images' bottlenecks\n"
     ]
    }
   ],
   "source": [
    "train.get_and_cache_bottlenecks(file_dir, generator, image_dp)"
   ]
  },
  {
   "cell_type": "code",
   "execution_count": 13,
   "metadata": {
    "collapsed": true
   },
   "outputs": [],
   "source": []
  },
  {
   "cell_type": "code",
   "execution_count": 7,
   "metadata": {},
   "outputs": [
    {
     "name": "stdout",
     "output_type": "stream",
     "text": [
      "Looking for images in 'n0'\n",
      "Looking for images in 'n1'\n",
      "Looking for images in 'n2'\n",
      "Looking for images in 'n3'\n",
      "Looking for images in 'n4'\n",
      "Looking for images in 'n5'\n",
      "Looking for images in 'n6'\n",
      "Looking for images in 'n7'\n",
      "Looking for images in 'n8'\n",
      "Looking for images in 'n9'\n",
      "Epoch 1/20\n",
      "1/2 [==============>...............] - ETA: 1s - loss: 2.1292 - acc: 0.3200\n",
      "Epoch 00001: val_acc improved from -inf to 0.47200, saving model to C:\\Users\\46176\\Documents\\files\\study\\EC601\\Smart_Vision_App_Generator\\test\\userId\\ProjectName\\datasetName\\models\\one_layer_weights.hdf5\n",
      "2/2 [==============================] - 3s 1s/step - loss: 2.0668 - acc: 0.3650 - val_loss: 1.8723 - val_acc: 0.4720\n",
      "Epoch 2/20\n",
      "1/2 [==============>...............] - ETA: 0s - loss: 1.8242 - acc: 0.5320\n",
      "Epoch 00002: val_acc improved from 0.47200 to 0.66000, saving model to C:\\Users\\46176\\Documents\\files\\study\\EC601\\Smart_Vision_App_Generator\\test\\userId\\ProjectName\\datasetName\\models\\one_layer_weights.hdf5\n",
      "2/2 [==============================] - 1s 471ms/step - loss: 1.7661 - acc: 0.5650 - val_loss: 1.6210 - val_acc: 0.6600\n",
      "Epoch 3/20\n",
      "1/2 [==============>...............] - ETA: 0s - loss: 1.5711 - acc: 0.7000\n",
      "Epoch 00003: val_acc improved from 0.66000 to 0.77400, saving model to C:\\Users\\46176\\Documents\\files\\study\\EC601\\Smart_Vision_App_Generator\\test\\userId\\ProjectName\\datasetName\\models\\one_layer_weights.hdf5\n",
      "2/2 [==============================] - 1s 374ms/step - loss: 1.5150 - acc: 0.7250 - val_loss: 1.3735 - val_acc: 0.7740\n",
      "Epoch 4/20\n",
      "1/2 [==============>...............] - ETA: 0s - loss: 1.3419 - acc: 0.8160\n",
      "Epoch 00004: val_acc improved from 0.77400 to 0.87400, saving model to C:\\Users\\46176\\Documents\\files\\study\\EC601\\Smart_Vision_App_Generator\\test\\userId\\ProjectName\\datasetName\\models\\one_layer_weights.hdf5\n",
      "2/2 [==============================] - 2s 934ms/step - loss: 1.2887 - acc: 0.8480 - val_loss: 1.1897 - val_acc: 0.8740\n",
      "Epoch 5/20\n",
      "1/2 [==============>...............] - ETA: 0s - loss: 1.1522 - acc: 0.8740\n",
      "Epoch 00005: val_acc improved from 0.87400 to 0.91600, saving model to C:\\Users\\46176\\Documents\\files\\study\\EC601\\Smart_Vision_App_Generator\\test\\userId\\ProjectName\\datasetName\\models\\one_layer_weights.hdf5\n",
      "2/2 [==============================] - 1s 514ms/step - loss: 1.0917 - acc: 0.8970 - val_loss: 0.9982 - val_acc: 0.9160\n",
      "Epoch 6/20\n",
      "1/2 [==============>...............] - ETA: 0s - loss: 0.9668 - acc: 0.9060\n",
      "Epoch 00006: val_acc improved from 0.91600 to 0.94400, saving model to C:\\Users\\46176\\Documents\\files\\study\\EC601\\Smart_Vision_App_Generator\\test\\userId\\ProjectName\\datasetName\\models\\one_layer_weights.hdf5\n",
      "2/2 [==============================] - 1s 556ms/step - loss: 0.9217 - acc: 0.9210 - val_loss: 0.8408 - val_acc: 0.9440\n",
      "Epoch 7/20\n",
      "1/2 [==============>...............] - ETA: 0s - loss: 0.8426 - acc: 0.9260\n",
      "Epoch 00007: val_acc did not improve from 0.94400\n",
      "2/2 [==============================] - 2s 968ms/step - loss: 0.7852 - acc: 0.9340 - val_loss: 0.7337 - val_acc: 0.9380\n",
      "Epoch 8/20\n",
      "1/2 [==============>...............] - ETA: 0s - loss: 0.7144 - acc: 0.9420\n",
      "Epoch 00008: val_acc improved from 0.94400 to 0.96000, saving model to C:\\Users\\46176\\Documents\\files\\study\\EC601\\Smart_Vision_App_Generator\\test\\userId\\ProjectName\\datasetName\\models\\one_layer_weights.hdf5\n",
      "2/2 [==============================] - 1s 710ms/step - loss: 0.6775 - acc: 0.9420 - val_loss: 0.6056 - val_acc: 0.9600\n",
      "Epoch 9/20\n",
      "1/2 [==============>...............] - ETA: 0s - loss: 0.5761 - acc: 0.9680\n",
      "Epoch 00009: val_acc did not improve from 0.96000\n",
      "2/2 [==============================] - 1s 505ms/step - loss: 0.5773 - acc: 0.9600 - val_loss: 0.5451 - val_acc: 0.9520\n",
      "Epoch 10/20\n",
      "1/2 [==============>...............] - ETA: 0s - loss: 0.4774 - acc: 0.9720\n",
      "Epoch 00010: val_acc did not improve from 0.96000\n",
      "2/2 [==============================] - 2s 1s/step - loss: 0.4887 - acc: 0.9620 - val_loss: 0.4591 - val_acc: 0.9600\n",
      "Epoch 11/20\n",
      "1/2 [==============>...............] - ETA: 0s - loss: 0.4273 - acc: 0.9780\n",
      "Epoch 00011: val_acc improved from 0.96000 to 0.96200, saving model to C:\\Users\\46176\\Documents\\files\\study\\EC601\\Smart_Vision_App_Generator\\test\\userId\\ProjectName\\datasetName\\models\\one_layer_weights.hdf5\n",
      "2/2 [==============================] - 1s 667ms/step - loss: 0.4197 - acc: 0.9680 - val_loss: 0.4128 - val_acc: 0.9620\n",
      "Epoch 12/20\n",
      "1/2 [==============>...............] - ETA: 0s - loss: 0.4135 - acc: 0.9640\n",
      "Epoch 00012: val_acc improved from 0.96200 to 0.96600, saving model to C:\\Users\\46176\\Documents\\files\\study\\EC601\\Smart_Vision_App_Generator\\test\\userId\\ProjectName\\datasetName\\models\\one_layer_weights.hdf5\n",
      "2/2 [==============================] - 2s 850ms/step - loss: 0.3953 - acc: 0.9650 - val_loss: 0.3722 - val_acc: 0.9660\n",
      "Epoch 13/20\n",
      "1/2 [==============>...............] - ETA: 0s - loss: 0.3550 - acc: 0.9660\n",
      "Epoch 00013: val_acc improved from 0.96600 to 0.97200, saving model to C:\\Users\\46176\\Documents\\files\\study\\EC601\\Smart_Vision_App_Generator\\test\\userId\\ProjectName\\datasetName\\models\\one_layer_weights.hdf5\n",
      "2/2 [==============================] - 2s 1s/step - loss: 0.3405 - acc: 0.9700 - val_loss: 0.3232 - val_acc: 0.9720\n",
      "Epoch 14/20\n",
      "1/2 [==============>...............] - ETA: 0s - loss: 0.3231 - acc: 0.9720\n",
      "Epoch 00014: val_acc did not improve from 0.97200\n",
      "2/2 [==============================] - 2s 969ms/step - loss: 0.3096 - acc: 0.9710 - val_loss: 0.3093 - val_acc: 0.9660\n",
      "Epoch 15/20\n",
      "1/2 [==============>...............] - ETA: 0s - loss: 0.2868 - acc: 0.9740\n",
      "Epoch 00015: val_acc did not improve from 0.97200\n",
      "2/2 [==============================] - 1s 687ms/step - loss: 0.2796 - acc: 0.9750 - val_loss: 0.2808 - val_acc: 0.9680\n",
      "Epoch 16/20\n",
      "1/2 [==============>...............] - ETA: 1s - loss: 0.2771 - acc: 0.9700\n",
      "Epoch 00016: val_acc did not improve from 0.97200\n",
      "2/2 [==============================] - 2s 981ms/step - loss: 0.2629 - acc: 0.9740 - val_loss: 0.2589 - val_acc: 0.9720\n",
      "Epoch 17/20\n",
      "1/2 [==============>...............] - ETA: 0s - loss: 0.2462 - acc: 0.9800\n",
      "Epoch 00017: val_acc did not improve from 0.97200\n",
      "2/2 [==============================] - 2s 1s/step - loss: 0.2431 - acc: 0.9780 - val_loss: 0.2357 - val_acc: 0.9720\n",
      "Epoch 18/20\n",
      "1/2 [==============>...............] - ETA: 0s - loss: 0.2136 - acc: 0.9800\n",
      "Epoch 00018: val_acc improved from 0.97200 to 0.97800, saving model to C:\\Users\\46176\\Documents\\files\\study\\EC601\\Smart_Vision_App_Generator\\test\\userId\\ProjectName\\datasetName\\models\\one_layer_weights.hdf5\n",
      "2/2 [==============================] - 2s 926ms/step - loss: 0.2021 - acc: 0.9830 - val_loss: 0.2327 - val_acc: 0.9780\n",
      "Epoch 19/20\n",
      "1/2 [==============>...............] - ETA: 0s - loss: 0.2326 - acc: 0.9740\n",
      "Epoch 00019: val_acc did not improve from 0.97800\n",
      "2/2 [==============================] - 1s 699ms/step - loss: 0.2224 - acc: 0.9750 - val_loss: 0.2120 - val_acc: 0.9780\n",
      "Epoch 20/20\n",
      "1/2 [==============>...............] - ETA: 1s - loss: 0.1955 - acc: 0.9840\n",
      "Epoch 00020: val_acc did not improve from 0.97800\n",
      "2/2 [==============================] - 3s 1s/step - loss: 0.1972 - acc: 0.9780 - val_loss: 0.2050 - val_acc: 0.9740\n"
     ]
    }
   ],
   "source": [
    "weights_file = train.train_one_layer_model(file_dir, generator, bottleneck_dp)"
   ]
  },
  {
   "cell_type": "code",
   "execution_count": null,
   "metadata": {
    "collapsed": true
   },
   "outputs": [],
   "source": []
  }
 ],
 "metadata": {
  "anaconda-cloud": {},
  "kernelspec": {
   "display_name": "SVAG_env",
   "language": "python",
   "name": "svag_env"
  },
  "language_info": {
   "codemirror_mode": {
    "name": "ipython",
    "version": 3
   },
   "file_extension": ".py",
   "mimetype": "text/x-python",
   "name": "python",
   "nbconvert_exporter": "python",
   "pygments_lexer": "ipython3",
   "version": "3.5.2"
  }
 },
 "nbformat": 4,
 "nbformat_minor": 1
}
